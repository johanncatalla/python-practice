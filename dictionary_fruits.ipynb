{
 "cells": [
  {
   "attachments": {},
   "cell_type": "markdown",
   "metadata": {},
   "source": [
    "Dictionary of Fruits"
   ]
  },
  {
   "cell_type": "code",
   "execution_count": null,
   "metadata": {},
   "outputs": [],
   "source": [
    "fruits = {'apple': {'cost': 0.75, 'quantity': 10}, 'banana': {'cost': 1.25, 'quantity': 5}, 'orange': {'cost': 0.9, 'quantity': 8}}"
   ]
  },
  {
   "attachments": {},
   "cell_type": "markdown",
   "metadata": {},
   "source": [
    "Check if an item exists in the dictionary"
   ]
  },
  {
   "cell_type": "code",
   "execution_count": null,
   "metadata": {},
   "outputs": [],
   "source": [
    "check_item = str(input('Enter Item you want to check: '))\n",
    "\n",
    "# check if item is in fruits\n",
    "if check_item in fruits: \n",
    "\n",
    "    print(f\"{check_item} Exists in the dictionary!\")\n",
    "\n",
    "    # gets the values of the key\n",
    "    pairs = fruits[check_item]\n",
    "\n",
    "    # formats output without curly brackets \n",
    "    dict_str = ', '.join(f\"{key}: {value}\" for key, value in pairs.items())\n",
    "\n",
    "    print(dict_str)\n",
    "    \n",
    "else:\n",
    "    print(f\"{check_item} does not exist in dictionary!\")\n",
    "        "
   ]
  },
  {
   "attachments": {},
   "cell_type": "markdown",
   "metadata": {},
   "source": [
    "Add a new item to the dictionary"
   ]
  },
  {
   "cell_type": "code",
   "execution_count": null,
   "metadata": {},
   "outputs": [],
   "source": [
    "new_item = str(input(\"Enter new item you want to add: \"))\n",
    "cost = float(input(\"Enter cost of new item: \"))\n",
    "quantity = int(input('Enter quantityof new item: '))\n",
    "\n",
    "# create nested dictionary \n",
    "nested_dict = {'cost': cost, 'quantity': quantity}\n",
    "\n",
    "if new_item in fruits:\n",
    "    print(f\"{new_item} is already in the dictionary!\")\n",
    "else:\n",
    "    # set nested dictionary as value for new item\n",
    "    fruits[new_item] = nested_dict\n",
    "    print(f\"{new_item} added to dictionary! \\ncost: {cost}, quantity: {quantity}\")\n",
    "\n"
   ]
  },
  {
   "attachments": {},
   "cell_type": "markdown",
   "metadata": {},
   "source": [
    "to check if strawberry has been added:"
   ]
  },
  {
   "cell_type": "code",
   "execution_count": null,
   "metadata": {},
   "outputs": [],
   "source": [
    "print(fruits)"
   ]
  }
 ],
 "metadata": {
  "kernelspec": {
   "display_name": "Python 3",
   "language": "python",
   "name": "python3"
  },
  "language_info": {
   "codemirror_mode": {
    "name": "ipython",
    "version": 3
   },
   "file_extension": ".py",
   "mimetype": "text/x-python",
   "name": "python",
   "nbconvert_exporter": "python",
   "pygments_lexer": "ipython3",
   "version": "3.10.10"
  },
  "orig_nbformat": 4
 },
 "nbformat": 4,
 "nbformat_minor": 2
}
